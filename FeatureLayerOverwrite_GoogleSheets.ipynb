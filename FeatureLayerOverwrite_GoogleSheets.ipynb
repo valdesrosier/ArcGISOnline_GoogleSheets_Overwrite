{
 "cells": [
  {
   "cell_type": "markdown",
   "metadata": {},
   "source": [
    "## Update ArcGIS Online Feature Layer from Google Sheets\n"
   ]
  },
  {
   "cell_type": "markdown",
   "metadata": {},
   "source": [
    "#### Connect to your GIS & import the necessary libraries:"
   ]
  },
  {
   "cell_type": "code",
   "execution_count": null,
   "metadata": {},
   "outputs": [],
   "source": [
    "try:\n",
    "    import gspread, oauth2client\n",
    "except ModuleNotFoundError:\n",
    "    %pip install --quiet gspread oauth2client"
   ]
  },
  {
   "cell_type": "code",
   "execution_count": null,
   "metadata": {},
   "outputs": [],
   "source": [
    "import pandas as pd\n",
    "import gspread\n",
    "from oauth2client.service_account import ServiceAccountCredentials\n",
    "from arcgis.gis import GIS\n",
    "gis = GIS(\"home\")\n",
    "import arcgis\n",
    "from arcgis.features import FeatureLayerCollection"
   ]
  },
  {
   "cell_type": "markdown",
   "metadata": {},
   "source": [
    "#### Import service-account JSON & authorize:"
   ]
  },
  {
   "cell_type": "markdown",
   "metadata": {},
   "source": [
    "##### Open \"Files\" above and navigate to your home folder. Upload your json to files. If google sheet is public, skip this step.\n",
    "\n",
    "If you need to create a json file, follow these steps:\n",
    "1. Sign in to Google Cloud Console\n",
    "    - Go to https://console.cloud.google.com/ and log in with the Google account that owns your sheet project.\n",
    "\n",
    "2. Select or Create a Project\n",
    "    - At the top, click the project dropdown and either pick the project you’ve been using (the one whose number showed up in your API errors) or click New Project to make a fresh one.\n",
    "\n",
    "3. Enable the Sheets API (if you haven’t already)\n",
    "    - In the left menu, go to APIs & Services → Library, search for “Google Sheets API,” click it and hit Enable.\n",
    "\n",
    "4. Open the Service Accounts Page\n",
    "    - In the left menu, go to IAM & Admin → Service Accounts.\n",
    "\n",
    "5. Create a New Service Account\n",
    "    - Click + CREATE SERVICE ACCOUNT at the top.\n",
    "    - Give it a name like “sheet-reader” and an optional description.\n",
    "    - Click Create.\n",
    "\n",
    "6. Grant It Permissions\n",
    "    - In the “Grant this service account access to project” step, pick Viewer (or more restrictive roles if you like) under “Project.”\n",
    "    - If you want to be extra precise, you can grant Sheets Viewer and Drive Viewer roles instead of Project Viewer.\n",
    "    - Click Continue.\n",
    "\n",
    "7. Skip Granting Users Access\n",
    "    - You can just click Done on the next screen (no additional users need to manage this account).\n",
    "\n",
    "8. Create a JSON Key\n",
    "    - Back on the Service Accounts list, find your new “sheet-reader” account and click its ⋮ (more actions) menu at the right, then Manage keys.\n",
    "    - Under the Keys tab, click Add Key → Create new key.\n",
    "    - Choose JSON, then Create.\n",
    "    - A file named something like sheet-reader-12345-abcd.json will download automatically.\n",
    "\n",
    "9. Upload that JSON to your Notebook\n",
    "    - In your ArcGIS Notebook’s Files pane, navigate into the home folder and click Upload, then pick that JSON file.\n",
    "    - You’ll now be able to reference it by filename in your code.\n",
    "\n",
    "10. Share Your Sheet with the Service Account\n",
    "    - Open your Google Sheet, click Share, and grant Viewer access to the service-account’s email (you’ll find it in the JSON under client_email)."
   ]
  },
  {
   "cell_type": "code",
   "execution_count": null,
   "metadata": {},
   "outputs": [],
   "source": [
    "SCOPE = [\n",
    "    \"https://www.googleapis.com/auth/spreadsheets.readonly\",\n",
    "    \"https://www.googleapis.com/auth/drive.readonly\"\n",
    "]\n",
    "\n",
    "# ── In notebooks, upload your json to files. If google sheet is public, skip this step ──\n",
    "SERVICE_ACCOUNT_FILE = \"/arcgis/home/<YOUR JSON NAME.json\"\n",
    "creds = ServiceAccountCredentials.from_json_keyfile_name(\n",
    "    SERVICE_ACCOUNT_FILE,\n",
    "    SCOPE\n",
    ")\n",
    "gc = gspread.authorize(creds)"
   ]
  },
  {
   "cell_type": "markdown",
   "metadata": {},
   "source": [
    "#### Connect to your Google Sheet:"
   ]
  },
  {
   "cell_type": "code",
   "execution_count": null,
   "metadata": {},
   "outputs": [],
   "source": [
    "SHEET_ID = \"<ADD SHEET ID FROM URL>\"\n",
    "GID      = \"<ADD GID, 0 IF ONE SHEET>\" \n",
    "CSV_URL  = f\"https://docs.google.com/spreadsheets/d/ <SHEETID /export?format=csv&gid= <GID>\"\n",
    "sh = gc.open_by_key(SHEET_ID)\n",
    "print(sh.title) \n",
    "df = pd.DataFrame(sh.get_worksheet(0).get_all_records())\n",
    "print(df.head())"
   ]
  },
  {
   "cell_type": "markdown",
   "metadata": {},
   "source": [
    "### Step 1: read the sheet"
   ]
  },
  {
   "cell_type": "code",
   "execution_count": null,
   "metadata": {},
   "outputs": [],
   "source": [
    "df = pd.read_csv(CSV_URL)\n",
    "print(f\"Loaded {len(df)} rows from Google Sheet.\")"
   ]
  },
  {
   "cell_type": "markdown",
   "metadata": {},
   "source": [
    "### Step 2: convert to a SpatialDataFrame\n",
    "#### Change Long and Lat to column headers of X and Y."
   ]
  },
  {
   "cell_type": "code",
   "execution_count": null,
   "metadata": {
    "scrolled": true
   },
   "outputs": [],
   "source": [
    "from arcgis.features import GeoAccessor\n",
    "import arcgis \n",
    "\n",
    "sdf = GeoAccessor.from_xy(\n",
    "    df,     \n",
    "    \"Long\",\n",
    "    \"Lat\"\n",
    ")\n",
    "sdf.spatial.sr = {\"wkid\": 4326}\n",
    "\n",
    "print(f\"✅ Converted to SpatialDataFrame with {len(sdf)} rows.\")\n"
   ]
  },
  {
   "cell_type": "markdown",
   "metadata": {},
   "source": [
    "### Step 2: clear current feature layer table and overwrite with new table"
   ]
  },
  {
   "cell_type": "code",
   "execution_count": null,
   "metadata": {},
   "outputs": [],
   "source": [
    "flc = FeatureLayerCollection.fromitem(gis.content.get(\"9adcddbddc1e4c14bc5a53b6a661a1f4\"))\n",
    "\n",
    "layer = flc.layers[0]\n",
    "layer.delete_features(where=\"1=1\")       \n",
    "\n",
    "fs = sdf.spatial.to_featureset()\n",
    "res = layer.edit_features(adds=fs)           \n",
    "\n",
    "print(f\"✅ Feature Layer Overwritten with {len(fs)} features. Server response:\")\n",
    "print(res)"
   ]
  }
 ],
 "metadata": {
  "esriNotebookRuntime": {
   "notebookRuntimeName": "ArcGIS Notebook Python 3 Standard",
   "notebookRuntimeVersion": "12.0"
  },
  "kernelspec": {
   "display_name": "Python 3 (ipykernel)",
   "language": "python",
   "name": "python3"
  },
  "language_info": {
   "codemirror_mode": {
    "name": "ipython",
    "version": 3
   },
   "file_extension": ".py",
   "mimetype": "text/x-python",
   "name": "python",
   "nbconvert_exporter": "python",
   "pygments_lexer": "ipython3",
   "version": "3.11.11"
  }
 },
 "nbformat": 4,
 "nbformat_minor": 4
}
